{
 "cells": [
  {
   "cell_type": "code",
   "execution_count": 19,
   "metadata": {},
   "outputs": [
    {
     "name": "stdout",
     "output_type": "stream",
     "text": [
      "Computing cell-cell metric...\n"
     ]
    },
    {
     "name": "stderr",
     "output_type": "stream",
     "text": [
      "100%|██████████| 327/327 [00:00<00:00, 23842.87it/s]"
     ]
    },
    {
     "name": "stdout",
     "output_type": "stream",
     "text": [
      "Successfully computed cell-cell metric\n",
      "Computing Psix score in 578 exons\n"
     ]
    },
    {
     "name": "stderr",
     "output_type": "stream",
     "text": [
      "\n",
      "100%|██████████| 578/578 [00:33<00:00, 17.51it/s]\n"
     ]
    },
    {
     "name": "stdout",
     "output_type": "stream",
     "text": [
      "Successfully computed Psix score of exons.\n",
      "Estimating p-values. This might take a while...\n"
     ]
    },
    {
     "name": "stderr",
     "output_type": "stream",
     "text": [
      "100%|██████████| 25/25 [03:36<00:00,  8.65s/it]\n"
     ]
    },
    {
     "name": "stdout",
     "output_type": "stream",
     "text": [
      "Successfully estimated p-values\n",
      "Successfully computed neighbors\n"
     ]
    },
    {
     "name": "stderr",
     "output_type": "stream",
     "text": [
      "578it [00:00, 20348.57it/s]\n"
     ]
    }
   ],
   "source": [
    "import psix\n",
    "from tqdm import tqdm\n",
    "\n",
    "# Replace name of the variable 'tumorname'\n",
    "tumorname = 'BT920'\n",
    "\n",
    "psix_object = psix.Psix()\n",
    "psix_object.junctions2psi(\n",
    "    sj_dir=f'/Users/cecileherbermann/Downloads/{tumorname}/SJ_tables/',\n",
    "    intron_file=f'/Users/cecileherbermann/Downloads/annotation.tab.gz',\n",
    "    tpm_file=f'/Users/cecileherbermann/Downloads/{tumorname}/{tumorname}_tpm_filtered.tab',\n",
    "    save_files_in=f'/Users/cecileherbermann/Downloads/{tumorname}/results/'\n",
    ")\n",
    "\n",
    "psix_object.run_psix(\n",
    "    latent=f'/Users/cecileherbermann/Downloads/{tumorname}/{tumorname}_PC.txt',\n",
    "    n_jobs=25,\n",
    "    n_random_exons=2000,\n",
    "    n_neighbors=30\n",
    ")\n",
    "\n",
    "psix_object.compute_modules()\n",
    "psix_object.plot_modules()\n",
    "psix_object.save_psix_object(psix_dir=f'/Users/cecileherbermann/Downloads/{tumorname}/results')\n",
    "\n",
    "psix_results = psix_object.psix_results\n",
    "\n",
    "gene_list = []\n",
    "score_list = []\n",
    "for idx, row in tqdm(psix_results.iterrows()):\n",
    "    gene = idx.split('_')[0]\n",
    "    if gene in gene_list:\n",
    "        continue\n",
    "    else:\n",
    "        gene_list.append(gene)\n",
    "        score_list.append(row.psix_score)\n",
    "\n",
    "with open(f'/Users/cecileherbermann/Downloads/{tumorname}/results/{tumorname}.rnk', 'w') as fh:\n",
    "    for i in range(len(gene_list)):\n",
    "        line = gene_list[i] + '\\t' + str(score_list[i]) + '\\n'\n",
    "        fh.write(line)\n"
   ]
  },
  {
   "cell_type": "code",
   "execution_count": 36,
   "metadata": {},
   "outputs": [
    {
     "name": "stdout",
     "output_type": "stream",
     "text": [
      "Computing cell-cell metric...\n"
     ]
    },
    {
     "name": "stderr",
     "output_type": "stream",
     "text": [
      "100%|██████████| 576/576 [00:00<00:00, 31615.36it/s]"
     ]
    },
    {
     "name": "stdout",
     "output_type": "stream",
     "text": [
      "Successfully computed cell-cell metric\n",
      "Computing Psix score in 1043 exons\n"
     ]
    },
    {
     "name": "stderr",
     "output_type": "stream",
     "text": [
      "\n",
      "100%|██████████| 1043/1043 [00:42<00:00, 24.81it/s]\n"
     ]
    },
    {
     "name": "stdout",
     "output_type": "stream",
     "text": [
      "Successfully computed Psix score of exons.\n",
      "Estimating p-values. This might take a while...\n"
     ]
    },
    {
     "name": "stderr",
     "output_type": "stream",
     "text": [
      "100%|██████████| 25/25 [05:55<00:00, 14.20s/it]  \n"
     ]
    },
    {
     "name": "stdout",
     "output_type": "stream",
     "text": [
      "Successfully estimated p-values\n",
      "Successfully computed neighbors\n"
     ]
    },
    {
     "name": "stderr",
     "output_type": "stream",
     "text": [
      "1043it [00:00, 17900.10it/s]\n"
     ]
    }
   ],
   "source": []
  },
  {
   "cell_type": "code",
   "execution_count": null,
   "metadata": {},
   "outputs": [],
   "source": [
    "import psix\n",
    "psix_object = psix.Psix()"
   ]
  },
  {
   "cell_type": "code",
   "execution_count": 2,
   "metadata": {},
   "outputs": [
    {
     "name": "stdout",
     "output_type": "stream",
     "text": [
      "Collecting splice junctions....\n"
     ]
    },
    {
     "name": "stderr",
     "output_type": "stream",
     "text": [
      "100%|██████████| 576/576 [00:14<00:00, 38.91it/s]\n"
     ]
    },
    {
     "name": "stdout",
     "output_type": "stream",
     "text": [
      "Obtaining PSI tables...\n",
      "Reading TPM and transforming to mRNA counts...\n"
     ]
    },
    {
     "name": "stderr",
     "output_type": "stream",
     "text": [
      "100%|██████████| 576/576 [00:09<00:00, 63.17it/s]\n"
     ]
    },
    {
     "name": "stdout",
     "output_type": "stream",
     "text": [
      "removed 81 cells with all missing or \"inf\" mRNA values.\n",
      "This can be the consequence of very shallow coverage in the cell.\n",
      "Successfully processed RNA-seq data\n"
     ]
    }
   ],
   "source": [
    "# Creating a Psix object with smart-seq2 data\n",
    "psix_object.junctions2psi(\n",
    "        sj_dir='/Users/cecileherbermann/Downloads/MGH42/SJ_tables/',\n",
    "        intron_file='/Users/cecileherbermann/Downloads/annotation.tab.gz',\n",
    "        tpm_file='/Users/cecileherbermann/Downloads/MGH42/rsem_gene_tpm.tab.gz',\n",
    "        save_files_in='/Users/cecileherbermann/Downloads/MGH42/results'\n",
    "    )"
   ]
  },
  {
   "cell_type": "code",
   "execution_count": 31,
   "metadata": {},
   "outputs": [],
   "source": [
    "psix_object = psix.Psix(psi_table = '/Users/cecileherbermann/Downloads/MGH61/results/psi.tab.gz',\n",
    "                        mrna_table = '/Users/cecileherbermann/Downloads/MGH61/results/mrna.tab.gz')"
   ]
  },
  {
   "cell_type": "code",
   "execution_count": 32,
   "metadata": {},
   "outputs": [
    {
     "name": "stdout",
     "output_type": "stream",
     "text": [
      "Computing cell-cell metric...\n"
     ]
    },
    {
     "name": "stderr",
     "output_type": "stream",
     "text": [
      "100%|██████████| 508/508 [00:00<00:00, 29775.52it/s]"
     ]
    },
    {
     "name": "stdout",
     "output_type": "stream",
     "text": [
      "Successfully computed cell-cell metric\n",
      "Computing Psix score in 1382 exons\n"
     ]
    },
    {
     "name": "stderr",
     "output_type": "stream",
     "text": [
      "\n",
      "100%|██████████| 1382/1382 [00:34<00:00, 39.82it/s]\n"
     ]
    },
    {
     "name": "stdout",
     "output_type": "stream",
     "text": [
      "Successfully computed Psix score of exons.\n",
      "Estimating p-values. This might take a while...\n"
     ]
    },
    {
     "name": "stderr",
     "output_type": "stream",
     "text": [
      "100%|██████████| 25/25 [05:01<00:00, 12.06s/it]  \n"
     ]
    },
    {
     "name": "stdout",
     "output_type": "stream",
     "text": [
      "Successfully estimated p-values\n"
     ]
    }
   ],
   "source": [
    "psix_object.run_psix(latent='/Users/cecileherbermann/Downloads/MGH61/MGH61_PC.txt', n_jobs=25, n_random_exons=2000, n_neighbors=30)"
   ]
  },
  {
   "cell_type": "code",
   "execution_count": 33,
   "metadata": {},
   "outputs": [
    {
     "name": "stdout",
     "output_type": "stream",
     "text": [
      "Successfully computed neighbors\n"
     ]
    },
    {
     "data": {
      "image/png": "[encoded data removed]",
      "text/plain": [
       "<Figure size 450x300 with 2 Axes>"
      ]
     },
     "metadata": {},
     "output_type": "display_data"
    }
   ],
   "source": [
    "psix_object.compute_modules()\n",
    "psix_object.plot_modules()\n",
    "psix_object.save_psix_object(psix_dir = '/Users/cecileherbermann/Downloads/MGH61')"
   ]
  },
  {
   "cell_type": "code",
   "execution_count": 28,
   "metadata": {},
   "outputs": [],
   "source": [
    "psix_object = psix.Psix(psix_object = '/Users/cecileherbermann/Downloads/MGH42/results/')"
   ]
  },
  {
   "cell_type": "code",
   "execution_count": 29,
   "metadata": {},
   "outputs": [
    {
     "name": "stderr",
     "output_type": "stream",
     "text": [
      "1377it [00:00, 7435.32it/s] \n"
     ]
    }
   ],
   "source": [
    "psix_results = psix_object.psix_results\n",
    "from tqdm import tqdm\n",
    "gene_list = []\n",
    "score_list = []\n",
    "for idx, row in tqdm(psix_results.iterrows()):\n",
    "    gene = idx.split('_')[0]\n",
    "    if gene in gene_list:\n",
    "        continue\n",
    "    else:\n",
    "        gene_list.append(gene)\n",
    "        score_list.append(row.psix_score)\n",
    "        \n",
    "with open('/Users/cecileherbermann/Downloads/MGH42/psix.rnk', 'w') as fh:\n",
    "    for i in range(len(gene_list)):\n",
    "        line = gene_list[i] + '\\t' + str(score_list[i]) + '\\n'\n",
    "        fh.write(line)"
   ]
  }
 ],
 "metadata": {
  "kernelspec": {
   "display_name": "base",
   "language": "python",
   "name": "python3"
  },
  "language_info": {
   "codemirror_mode": {
    "name": "ipython",
    "version": 3
   },
   "file_extension": ".py",
   "mimetype": "text/x-python",
   "name": "python",
   "nbconvert_exporter": "python",
   "pygments_lexer": "ipython3",
   "version": "3.9.12"
  },
  "orig_nbformat": 4
 },
 "nbformat": 4,
 "nbformat_minor": 2
}
